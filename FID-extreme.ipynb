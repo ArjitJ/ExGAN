{
 "cells": [
  {
   "cell_type": "code",
   "execution_count": null,
   "metadata": {},
   "outputs": [],
   "source": [
    "import os\n",
    "import torch\n",
    "import torch.nn as nn\n",
    "import torch.nn.functional as F\n",
    "from torch.autograd import Variable\n",
    "import pandas as pd\n",
    "import numpy as np\n",
    "import matplotlib.pyplot as plt\n",
    "import itertools\n",
    "from torch.utils.data import Dataset, DataLoader\n",
    "from torchvision.transforms import Compose, ToTensor\n",
    "from skimage.transform import resize\n",
    "from torchvision import transforms\n",
    "import torch.optim as optim\n",
    "from torch import LongTensor, FloatTensor\n",
    "from scipy.stats import skewnorm, genpareto\n",
    "from torchvision.utils import save_image\n",
    "\n",
    "\n",
    "data = torch.load('data/real.pt')\n",
    "\n",
    "class AutoEncoder(nn.Module):\n",
    "    def __init__(self):\n",
    "        super(AutoEncoder, self).__init__()\n",
    "        self.e1 = nn.Linear(4096,64)\n",
    "        self.output_layer = nn.Linear(64,4096)\n",
    "        \n",
    "    def forward(self,x):\n",
    "        x = torch.sigmoid(self.e1(x))\n",
    "        x = self.output_layer(x)\n",
    "        return x\n",
    "\n",
    "ae = AutoEncoder().cuda()\n",
    "loss_func = nn.MSELoss()\n",
    "optimizer = torch.optim.Adam(ae.parameters(), lr=1e-3)"
   ]
  },
  {
   "cell_type": "code",
   "execution_count": null,
   "metadata": {},
   "outputs": [],
   "source": [
    "data = data.reshape(data.shape[0], -1)[:255]\n",
    "losses = []\n",
    "EPOCHS = 200\n",
    "for epoch in range(EPOCHS):   \n",
    "    x = torch.autograd.Variable(data[torch.randperm(255)]).cuda()\n",
    "    optimizer.zero_grad()\n",
    "    pred = ae(x)\n",
    "    loss = loss_func(pred, x)\n",
    "    losses.append(loss.cpu().data.item())\n",
    "    loss.backward()\n",
    "    optimizer.step()\n",
    "plt.plot(losses)"
   ]
  },
  {
   "cell_type": "code",
   "execution_count": null,
   "metadata": {},
   "outputs": [],
   "source": [
    "from scipy import linalg\n",
    "import warnings\n",
    "\n",
    "def FID(mu1, mu2, sigma1, sigma2): \n",
    "    eps=1e-30\n",
    "    mu1 = np.atleast_1d(mu1)\n",
    "    mu2 = np.atleast_1d(mu2)\n",
    "\n",
    "    sigma1 = np.atleast_2d(sigma1)\n",
    "    sigma2 = np.atleast_2d(sigma2)\n",
    "\n",
    "    assert mu1.shape == mu2.shape, \"Training and test mean vectors have different lengths\"\n",
    "    assert sigma1.shape == sigma2.shape, \"Training and test covariances have different dimensions\"\n",
    "\n",
    "    diff = mu1 - mu2\n",
    "    # product might be almost singular\n",
    "    covmean, _ = linalg.sqrtm(sigma1.dot(sigma2), disp=False)\n",
    "    if not np.isfinite(covmean).all():\n",
    "        msg = \"fid calculation produces singular product; adding %s to diagonal of cov estimates\" % eps\n",
    "        warnings.warn(msg)\n",
    "        offset = np.eye(sigma1.shape[0]) * eps\n",
    "        covmean = linalg.sqrtm((sigma1 + offset).dot(sigma2 + offset))\n",
    "\n",
    "    # numerical error might give slight imaginary component\n",
    "    if np.iscomplexobj(covmean):\n",
    "        if not np.allclose(np.diagonal(covmean).imag, 0, atol=1e-3):\n",
    "            m = np.max(np.abs(covmean.imag))\n",
    "            raise ValueError(\"Imaginary component {}\".format(m))\n",
    "        covmean = covmean.real\n",
    "\n",
    "    tr_covmean = np.trace(covmean)\n",
    "    return diff.dot(diff) + np.trace(sigma1) + np.trace(sigma2) - 2 * tr_covmean\n",
    "\n",
    "def calcFID(data):\n",
    "    data = data.reshape(data.shape[0], -1)\n",
    "    features = torch.sigmoid(ae.e1(data.cuda())).detach().cpu().numpy()\n",
    "    mean, covar = np.mean(features, 0), np.cov(features, rowvar=False)\n",
    "    return FID(mean, base_mean, covar, base_covar)\n"
   ]
  },
  {
   "cell_type": "code",
   "execution_count": null,
   "metadata": {},
   "outputs": [],
   "source": [
    "base_features = torch.sigmoid(ae.e1(Variable(data).cuda())).detach().cpu().numpy()\n",
    "base_mean, base_covar = np.mean(base_features, 0), np.cov(base_features, rowvar=False) "
   ]
  }
 ],
 "metadata": {
  "kernelspec": {
   "display_name": "Python 3",
   "language": "python",
   "name": "python3"
  },
  "language_info": {
   "codemirror_mode": {
    "name": "ipython",
    "version": 3
   },
   "file_extension": ".py",
   "mimetype": "text/x-python",
   "name": "python",
   "nbconvert_exporter": "python",
   "pygments_lexer": "ipython3",
   "version": "3.7.6"
  }
 },
 "nbformat": 4,
 "nbformat_minor": 4
}
